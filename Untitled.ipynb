{
 "cells": [
  {
   "cell_type": "code",
   "execution_count": 4,
   "id": "cac01297-6f06-4502-a989-14a73ccad8ca",
   "metadata": {},
   "outputs": [
    {
     "ename": "SyntaxError",
     "evalue": "invalid syntax (2940887551.py, line 41)",
     "output_type": "error",
     "traceback": [
      "\u001b[0;36m  File \u001b[0;32m\"/tmp/ipykernel_40269/2940887551.py\"\u001b[0;36m, line \u001b[0;32m41\u001b[0m\n\u001b[0;31m    log_production_model(\"../params.yaml\")\u001b[0m\n\u001b[0m                       ^\u001b[0m\n\u001b[0;31mSyntaxError\u001b[0m\u001b[0;31m:\u001b[0m invalid syntax\n"
     ]
    }
   ],
   "source": [
    "from src.get_data import read_params\n",
    "import argparse\n",
    "import mlflow\n",
    "from mlflow.tracking import MlflowClient\n",
    "from pprint import pprint\n",
    "import joblib\n",
    "import os\n",
    "\n",
    "os.chdir('/home/madhav/mlops/simple_app')\n",
    "\n",
    "def log_production_model(config_path):\n",
    "    config= read_params(config_path)\n",
    "    mlflow_config= config[\"mlflow_config\"]\n",
    "    model_name= mlflow_config[\"registered_model_name\"]\n",
    "    remote_server_uri= mlflow_config[\"remote_server_uri\"]\n",
    "    mlflow.set_registry_uri(remote_server_uri)\n",
    "    runs= mlflow.search_runs(experiment_ids= 1)\n",
    "    lowest = runs[\"metrics.mae\"].sort_values(ascending= True)[0]\n",
    "    lowest_run_id= runs[runs[\"metrics.mae\"]== lowest][\"run_id\"][0]\n",
    "\n",
    "    client= MlflowClient()\n",
    "    for mv in client.search_model_versions(f\"name=' {model_name}'\"):\n",
    "        mv = dict(mv)\n",
    "        if mv[\"run_id\"]== lowest_run_id:\n",
    "            current_version= mv[\"version\"]\n",
    "            logged_model= mv[\"source\"]\n",
    "            pprint(mv, indent=4)\n",
    "            client.transition_model_version_stage(\n",
    "                name= model_name,\n",
    "                version= current_version,\n",
    "                stage= \"Production\"\n",
    "            )\n",
    "        else:\n",
    "            current_version= mv[\"version\"]\n",
    "            client.transition_model_version_stage(\n",
    "                name= model_name,\n",
    "                version= current_version,\n",
    "                stage= \"Staging\"\n",
    "\n",
    "\n",
    "log_production_model(\"../params.yaml\")\n",
    "\n",
    "\n",
    "if __name__== \"__main__\":\n",
    "    args= argparse.ArgumentParser()\n",
    "    args.add_argument(\"--config\", default= \"params.yaml\")\n",
    "    parsed_args= args.parse_args()\n",
    "    data= log_production_model(config_path=parsed_args.config)"
   ]
  },
  {
   "cell_type": "code",
   "execution_count": 3,
   "id": "c28bf758-616c-46e5-8d3c-a1634183418e",
   "metadata": {},
   "outputs": [
    {
     "data": {
      "text/plain": [
       "'/home/madhav/mlops/simple_app'"
      ]
     },
     "execution_count": 3,
     "metadata": {},
     "output_type": "execute_result"
    }
   ],
   "source": [
    "pwd"
   ]
  }
 ],
 "metadata": {
  "kernelspec": {
   "display_name": "Python 3 (ipykernel)",
   "language": "python",
   "name": "python3"
  },
  "language_info": {
   "codemirror_mode": {
    "name": "ipython",
    "version": 3
   },
   "file_extension": ".py",
   "mimetype": "text/x-python",
   "name": "python",
   "nbconvert_exporter": "python",
   "pygments_lexer": "ipython3",
   "version": "3.7.11"
  }
 },
 "nbformat": 4,
 "nbformat_minor": 5
}
